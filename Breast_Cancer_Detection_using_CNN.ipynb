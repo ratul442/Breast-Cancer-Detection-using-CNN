{
  "nbformat": 4,
  "nbformat_minor": 0,
  "metadata": {
    "colab": {
      "name": "Breast Cancer Detection using CNN.ipynb",
      "provenance": []
    },
    "kernelspec": {
      "name": "python3",
      "display_name": "Python 3"
    },
    "accelerator": "TPU"
  },
  "cells": [
    {
      "cell_type": "code",
      "metadata": {
        "id": "f95AVYqWQjGP"
      },
      "source": [
        "import tensorflow as tf\n",
        "from tensorflow.keras import Sequential\n",
        "from tensorflow.keras.layers import Conv1D, MaxPool1D,Flatten,Dense,Dropout,BatchNormalization\n",
        "from tensorflow.keras.optimizers import Adam"
      ],
      "execution_count": 29,
      "outputs": []
    },
    {
      "cell_type": "code",
      "metadata": {
        "id": "7AoU3CKEQx_k"
      },
      "source": [
        "import numpy as np\n",
        "import pandas as pd\n",
        "import matplotlib.pyplot as plt\n",
        "import seaborn as sns"
      ],
      "execution_count": 30,
      "outputs": []
    },
    {
      "cell_type": "code",
      "metadata": {
        "id": "KV9i4W-BQ2zA"
      },
      "source": [
        "from sklearn import datasets,metrics\n",
        "from sklearn.model_selection import train_test_split\n",
        "from sklearn.preprocessing import StandardScaler"
      ],
      "execution_count": 31,
      "outputs": []
    },
    {
      "cell_type": "code",
      "metadata": {
        "id": "XIDtgmOKRGgg"
      },
      "source": [
        "cancerData = datasets.load_breast_cancer()"
      ],
      "execution_count": 32,
      "outputs": []
    },
    {
      "cell_type": "code",
      "metadata": {
        "colab": {
          "base_uri": "https://localhost:8080/",
          "height": 258
        },
        "id": "mZkbZeOFRLPe",
        "outputId": "edf8087c-a9bf-4441-84f2-a0787f4cb304"
      },
      "source": [
        "X = pd.DataFrame(data = cancerData.data, columns=cancerData.feature_names )\n",
        "X.head()"
      ],
      "execution_count": 33,
      "outputs": [
        {
          "output_type": "execute_result",
          "data": {
            "text/html": [
              "<div>\n",
              "<style scoped>\n",
              "    .dataframe tbody tr th:only-of-type {\n",
              "        vertical-align: middle;\n",
              "    }\n",
              "\n",
              "    .dataframe tbody tr th {\n",
              "        vertical-align: top;\n",
              "    }\n",
              "\n",
              "    .dataframe thead th {\n",
              "        text-align: right;\n",
              "    }\n",
              "</style>\n",
              "<table border=\"1\" class=\"dataframe\">\n",
              "  <thead>\n",
              "    <tr style=\"text-align: right;\">\n",
              "      <th></th>\n",
              "      <th>mean radius</th>\n",
              "      <th>mean texture</th>\n",
              "      <th>mean perimeter</th>\n",
              "      <th>mean area</th>\n",
              "      <th>mean smoothness</th>\n",
              "      <th>mean compactness</th>\n",
              "      <th>mean concavity</th>\n",
              "      <th>mean concave points</th>\n",
              "      <th>mean symmetry</th>\n",
              "      <th>mean fractal dimension</th>\n",
              "      <th>radius error</th>\n",
              "      <th>texture error</th>\n",
              "      <th>perimeter error</th>\n",
              "      <th>area error</th>\n",
              "      <th>smoothness error</th>\n",
              "      <th>compactness error</th>\n",
              "      <th>concavity error</th>\n",
              "      <th>concave points error</th>\n",
              "      <th>symmetry error</th>\n",
              "      <th>fractal dimension error</th>\n",
              "      <th>worst radius</th>\n",
              "      <th>worst texture</th>\n",
              "      <th>worst perimeter</th>\n",
              "      <th>worst area</th>\n",
              "      <th>worst smoothness</th>\n",
              "      <th>worst compactness</th>\n",
              "      <th>worst concavity</th>\n",
              "      <th>worst concave points</th>\n",
              "      <th>worst symmetry</th>\n",
              "      <th>worst fractal dimension</th>\n",
              "    </tr>\n",
              "  </thead>\n",
              "  <tbody>\n",
              "    <tr>\n",
              "      <th>0</th>\n",
              "      <td>17.99</td>\n",
              "      <td>10.38</td>\n",
              "      <td>122.80</td>\n",
              "      <td>1001.0</td>\n",
              "      <td>0.11840</td>\n",
              "      <td>0.27760</td>\n",
              "      <td>0.3001</td>\n",
              "      <td>0.14710</td>\n",
              "      <td>0.2419</td>\n",
              "      <td>0.07871</td>\n",
              "      <td>1.0950</td>\n",
              "      <td>0.9053</td>\n",
              "      <td>8.589</td>\n",
              "      <td>153.40</td>\n",
              "      <td>0.006399</td>\n",
              "      <td>0.04904</td>\n",
              "      <td>0.05373</td>\n",
              "      <td>0.01587</td>\n",
              "      <td>0.03003</td>\n",
              "      <td>0.006193</td>\n",
              "      <td>25.38</td>\n",
              "      <td>17.33</td>\n",
              "      <td>184.60</td>\n",
              "      <td>2019.0</td>\n",
              "      <td>0.1622</td>\n",
              "      <td>0.6656</td>\n",
              "      <td>0.7119</td>\n",
              "      <td>0.2654</td>\n",
              "      <td>0.4601</td>\n",
              "      <td>0.11890</td>\n",
              "    </tr>\n",
              "    <tr>\n",
              "      <th>1</th>\n",
              "      <td>20.57</td>\n",
              "      <td>17.77</td>\n",
              "      <td>132.90</td>\n",
              "      <td>1326.0</td>\n",
              "      <td>0.08474</td>\n",
              "      <td>0.07864</td>\n",
              "      <td>0.0869</td>\n",
              "      <td>0.07017</td>\n",
              "      <td>0.1812</td>\n",
              "      <td>0.05667</td>\n",
              "      <td>0.5435</td>\n",
              "      <td>0.7339</td>\n",
              "      <td>3.398</td>\n",
              "      <td>74.08</td>\n",
              "      <td>0.005225</td>\n",
              "      <td>0.01308</td>\n",
              "      <td>0.01860</td>\n",
              "      <td>0.01340</td>\n",
              "      <td>0.01389</td>\n",
              "      <td>0.003532</td>\n",
              "      <td>24.99</td>\n",
              "      <td>23.41</td>\n",
              "      <td>158.80</td>\n",
              "      <td>1956.0</td>\n",
              "      <td>0.1238</td>\n",
              "      <td>0.1866</td>\n",
              "      <td>0.2416</td>\n",
              "      <td>0.1860</td>\n",
              "      <td>0.2750</td>\n",
              "      <td>0.08902</td>\n",
              "    </tr>\n",
              "    <tr>\n",
              "      <th>2</th>\n",
              "      <td>19.69</td>\n",
              "      <td>21.25</td>\n",
              "      <td>130.00</td>\n",
              "      <td>1203.0</td>\n",
              "      <td>0.10960</td>\n",
              "      <td>0.15990</td>\n",
              "      <td>0.1974</td>\n",
              "      <td>0.12790</td>\n",
              "      <td>0.2069</td>\n",
              "      <td>0.05999</td>\n",
              "      <td>0.7456</td>\n",
              "      <td>0.7869</td>\n",
              "      <td>4.585</td>\n",
              "      <td>94.03</td>\n",
              "      <td>0.006150</td>\n",
              "      <td>0.04006</td>\n",
              "      <td>0.03832</td>\n",
              "      <td>0.02058</td>\n",
              "      <td>0.02250</td>\n",
              "      <td>0.004571</td>\n",
              "      <td>23.57</td>\n",
              "      <td>25.53</td>\n",
              "      <td>152.50</td>\n",
              "      <td>1709.0</td>\n",
              "      <td>0.1444</td>\n",
              "      <td>0.4245</td>\n",
              "      <td>0.4504</td>\n",
              "      <td>0.2430</td>\n",
              "      <td>0.3613</td>\n",
              "      <td>0.08758</td>\n",
              "    </tr>\n",
              "    <tr>\n",
              "      <th>3</th>\n",
              "      <td>11.42</td>\n",
              "      <td>20.38</td>\n",
              "      <td>77.58</td>\n",
              "      <td>386.1</td>\n",
              "      <td>0.14250</td>\n",
              "      <td>0.28390</td>\n",
              "      <td>0.2414</td>\n",
              "      <td>0.10520</td>\n",
              "      <td>0.2597</td>\n",
              "      <td>0.09744</td>\n",
              "      <td>0.4956</td>\n",
              "      <td>1.1560</td>\n",
              "      <td>3.445</td>\n",
              "      <td>27.23</td>\n",
              "      <td>0.009110</td>\n",
              "      <td>0.07458</td>\n",
              "      <td>0.05661</td>\n",
              "      <td>0.01867</td>\n",
              "      <td>0.05963</td>\n",
              "      <td>0.009208</td>\n",
              "      <td>14.91</td>\n",
              "      <td>26.50</td>\n",
              "      <td>98.87</td>\n",
              "      <td>567.7</td>\n",
              "      <td>0.2098</td>\n",
              "      <td>0.8663</td>\n",
              "      <td>0.6869</td>\n",
              "      <td>0.2575</td>\n",
              "      <td>0.6638</td>\n",
              "      <td>0.17300</td>\n",
              "    </tr>\n",
              "    <tr>\n",
              "      <th>4</th>\n",
              "      <td>20.29</td>\n",
              "      <td>14.34</td>\n",
              "      <td>135.10</td>\n",
              "      <td>1297.0</td>\n",
              "      <td>0.10030</td>\n",
              "      <td>0.13280</td>\n",
              "      <td>0.1980</td>\n",
              "      <td>0.10430</td>\n",
              "      <td>0.1809</td>\n",
              "      <td>0.05883</td>\n",
              "      <td>0.7572</td>\n",
              "      <td>0.7813</td>\n",
              "      <td>5.438</td>\n",
              "      <td>94.44</td>\n",
              "      <td>0.011490</td>\n",
              "      <td>0.02461</td>\n",
              "      <td>0.05688</td>\n",
              "      <td>0.01885</td>\n",
              "      <td>0.01756</td>\n",
              "      <td>0.005115</td>\n",
              "      <td>22.54</td>\n",
              "      <td>16.67</td>\n",
              "      <td>152.20</td>\n",
              "      <td>1575.0</td>\n",
              "      <td>0.1374</td>\n",
              "      <td>0.2050</td>\n",
              "      <td>0.4000</td>\n",
              "      <td>0.1625</td>\n",
              "      <td>0.2364</td>\n",
              "      <td>0.07678</td>\n",
              "    </tr>\n",
              "  </tbody>\n",
              "</table>\n",
              "</div>"
            ],
            "text/plain": [
              "   mean radius  mean texture  ...  worst symmetry  worst fractal dimension\n",
              "0        17.99         10.38  ...          0.4601                  0.11890\n",
              "1        20.57         17.77  ...          0.2750                  0.08902\n",
              "2        19.69         21.25  ...          0.3613                  0.08758\n",
              "3        11.42         20.38  ...          0.6638                  0.17300\n",
              "4        20.29         14.34  ...          0.2364                  0.07678\n",
              "\n",
              "[5 rows x 30 columns]"
            ]
          },
          "metadata": {
            "tags": []
          },
          "execution_count": 33
        }
      ]
    },
    {
      "cell_type": "code",
      "metadata": {
        "colab": {
          "base_uri": "https://localhost:8080/"
        },
        "id": "0YiJiRkZR1d3",
        "outputId": "4e6dc815-d802-48db-f0cb-efa854b2449c"
      },
      "source": [
        "X.shape"
      ],
      "execution_count": 34,
      "outputs": [
        {
          "output_type": "execute_result",
          "data": {
            "text/plain": [
              "(569, 30)"
            ]
          },
          "metadata": {
            "tags": []
          },
          "execution_count": 34
        }
      ]
    },
    {
      "cell_type": "code",
      "metadata": {
        "colab": {
          "base_uri": "https://localhost:8080/"
        },
        "id": "0SN6fZu6RnNf",
        "outputId": "c5fc708f-d880-425c-ae58-c90c395b21f4"
      },
      "source": [
        "y = cancerData.target\n",
        "y.shape"
      ],
      "execution_count": 35,
      "outputs": [
        {
          "output_type": "execute_result",
          "data": {
            "text/plain": [
              "(569,)"
            ]
          },
          "metadata": {
            "tags": []
          },
          "execution_count": 35
        }
      ]
    },
    {
      "cell_type": "code",
      "metadata": {
        "colab": {
          "base_uri": "https://localhost:8080/"
        },
        "id": "0Zx0F9CPR042",
        "outputId": "0bb8a197-f45a-4880-de86-203b0ed5493e"
      },
      "source": [
        "X_train,X_test,y_train,y_test= train_test_split(X,y,test_size=0.1,stratify=y)\n",
        "X_train.shape , y_test.shape"
      ],
      "execution_count": 36,
      "outputs": [
        {
          "output_type": "execute_result",
          "data": {
            "text/plain": [
              "((512, 30), (57,))"
            ]
          },
          "metadata": {
            "tags": []
          },
          "execution_count": 36
        }
      ]
    },
    {
      "cell_type": "code",
      "metadata": {
        "id": "xcfleMqMR8nY"
      },
      "source": [
        "scaler = StandardScaler()\n",
        "X_train = scaler.fit_transform(X_train)\n",
        "X_test = scaler.transform(X_test)"
      ],
      "execution_count": 37,
      "outputs": []
    },
    {
      "cell_type": "code",
      "metadata": {
        "id": "cXcG8Ct9SNK9"
      },
      "source": [
        "X_train = X_train.reshape(512,30,1)\n",
        "X_test = X_test.reshape(57,30,1)"
      ],
      "execution_count": 38,
      "outputs": []
    },
    {
      "cell_type": "code",
      "metadata": {
        "id": "bFTX11WwSSKD"
      },
      "source": [
        "model = Sequential()\n",
        "model.add(Conv1D(filters=16,kernel_size=2,activation='relu',input_shape=(30,1)))\n",
        "model.add(BatchNormalization())\n",
        "model.add(Dropout(0.2))\n",
        "\n",
        "model.add(Conv1D(32,2,activation='relu'))\n",
        "model.add(BatchNormalization())\n",
        "model.add(Dropout(0.2))\n",
        "\n",
        "model.add(Flatten())\n",
        "model.add(Dense(32,activation='relu'))\n",
        "model.add(Dropout(0.2))\n",
        "\n",
        "model.add(Dense(1,activation='sigmoid'))"
      ],
      "execution_count": 39,
      "outputs": []
    },
    {
      "cell_type": "code",
      "metadata": {
        "colab": {
          "base_uri": "https://localhost:8080/"
        },
        "id": "4Oq4sXecSan6",
        "outputId": "b2cab7aa-a6ab-4d80-a142-b2449afe4358"
      },
      "source": [
        "model.summary()"
      ],
      "execution_count": 40,
      "outputs": [
        {
          "output_type": "stream",
          "text": [
            "Model: \"sequential_1\"\n",
            "_________________________________________________________________\n",
            "Layer (type)                 Output Shape              Param #   \n",
            "=================================================================\n",
            "conv1d_2 (Conv1D)            (None, 29, 16)            48        \n",
            "_________________________________________________________________\n",
            "batch_normalization_2 (Batch (None, 29, 16)            64        \n",
            "_________________________________________________________________\n",
            "dropout_3 (Dropout)          (None, 29, 16)            0         \n",
            "_________________________________________________________________\n",
            "conv1d_3 (Conv1D)            (None, 28, 32)            1056      \n",
            "_________________________________________________________________\n",
            "batch_normalization_3 (Batch (None, 28, 32)            128       \n",
            "_________________________________________________________________\n",
            "dropout_4 (Dropout)          (None, 28, 32)            0         \n",
            "_________________________________________________________________\n",
            "flatten_1 (Flatten)          (None, 896)               0         \n",
            "_________________________________________________________________\n",
            "dense_2 (Dense)              (None, 32)                28704     \n",
            "_________________________________________________________________\n",
            "dropout_5 (Dropout)          (None, 32)                0         \n",
            "_________________________________________________________________\n",
            "dense_3 (Dense)              (None, 1)                 33        \n",
            "=================================================================\n",
            "Total params: 30,033\n",
            "Trainable params: 29,937\n",
            "Non-trainable params: 96\n",
            "_________________________________________________________________\n"
          ],
          "name": "stdout"
        }
      ]
    },
    {
      "cell_type": "code",
      "metadata": {
        "id": "OpWBecrDSfeJ"
      },
      "source": [
        "model.compile(optimizer=Adam(learning_rate=0.0001),loss='binary_crossentropy',metrics=['accuracy'])"
      ],
      "execution_count": 41,
      "outputs": []
    },
    {
      "cell_type": "code",
      "metadata": {
        "colab": {
          "base_uri": "https://localhost:8080/"
        },
        "id": "rbsqEdA8Smxh",
        "outputId": "3ab2faa9-d413-46d9-a0a6-dca21197b385"
      },
      "source": [
        "history = model.fit(X_train,y_train,epochs=35,verbose=1,validation_data=(X_test,y_test))"
      ],
      "execution_count": 42,
      "outputs": [
        {
          "output_type": "stream",
          "text": [
            "Epoch 1/35\n",
            "16/16 [==============================] - 0s 13ms/step - loss: 0.9481 - accuracy: 0.5039 - val_loss: 0.6471 - val_accuracy: 0.7368\n",
            "Epoch 2/35\n",
            "16/16 [==============================] - 0s 5ms/step - loss: 0.6739 - accuracy: 0.6543 - val_loss: 0.5921 - val_accuracy: 0.8246\n",
            "Epoch 3/35\n",
            "16/16 [==============================] - 0s 5ms/step - loss: 0.5179 - accuracy: 0.7285 - val_loss: 0.5444 - val_accuracy: 0.8596\n",
            "Epoch 4/35\n",
            "16/16 [==============================] - 0s 5ms/step - loss: 0.4038 - accuracy: 0.8301 - val_loss: 0.4990 - val_accuracy: 0.8772\n",
            "Epoch 5/35\n",
            "16/16 [==============================] - 0s 5ms/step - loss: 0.3456 - accuracy: 0.8594 - val_loss: 0.4545 - val_accuracy: 0.9298\n",
            "Epoch 6/35\n",
            "16/16 [==============================] - 0s 6ms/step - loss: 0.2672 - accuracy: 0.9023 - val_loss: 0.4119 - val_accuracy: 0.9649\n",
            "Epoch 7/35\n",
            "16/16 [==============================] - 0s 5ms/step - loss: 0.2437 - accuracy: 0.9004 - val_loss: 0.3676 - val_accuracy: 0.9649\n",
            "Epoch 8/35\n",
            "16/16 [==============================] - 0s 5ms/step - loss: 0.2460 - accuracy: 0.8965 - val_loss: 0.3269 - val_accuracy: 0.9649\n",
            "Epoch 9/35\n",
            "16/16 [==============================] - 0s 6ms/step - loss: 0.1987 - accuracy: 0.9375 - val_loss: 0.2888 - val_accuracy: 0.9649\n",
            "Epoch 10/35\n",
            "16/16 [==============================] - 0s 5ms/step - loss: 0.1907 - accuracy: 0.9336 - val_loss: 0.2537 - val_accuracy: 0.9649\n",
            "Epoch 11/35\n",
            "16/16 [==============================] - 0s 5ms/step - loss: 0.1643 - accuracy: 0.9453 - val_loss: 0.2219 - val_accuracy: 0.9825\n",
            "Epoch 12/35\n",
            "16/16 [==============================] - 0s 5ms/step - loss: 0.1591 - accuracy: 0.9414 - val_loss: 0.1952 - val_accuracy: 0.9825\n",
            "Epoch 13/35\n",
            "16/16 [==============================] - 0s 5ms/step - loss: 0.1543 - accuracy: 0.9453 - val_loss: 0.1712 - val_accuracy: 0.9825\n",
            "Epoch 14/35\n",
            "16/16 [==============================] - 0s 5ms/step - loss: 0.1506 - accuracy: 0.9492 - val_loss: 0.1504 - val_accuracy: 0.9825\n",
            "Epoch 15/35\n",
            "16/16 [==============================] - 0s 5ms/step - loss: 0.1349 - accuracy: 0.9512 - val_loss: 0.1346 - val_accuracy: 0.9825\n",
            "Epoch 16/35\n",
            "16/16 [==============================] - 0s 5ms/step - loss: 0.1377 - accuracy: 0.9512 - val_loss: 0.1207 - val_accuracy: 0.9825\n",
            "Epoch 17/35\n",
            "16/16 [==============================] - 0s 5ms/step - loss: 0.1287 - accuracy: 0.9570 - val_loss: 0.1084 - val_accuracy: 0.9825\n",
            "Epoch 18/35\n",
            "16/16 [==============================] - 0s 5ms/step - loss: 0.1283 - accuracy: 0.9590 - val_loss: 0.0974 - val_accuracy: 0.9825\n",
            "Epoch 19/35\n",
            "16/16 [==============================] - 0s 5ms/step - loss: 0.1083 - accuracy: 0.9609 - val_loss: 0.0885 - val_accuracy: 0.9649\n",
            "Epoch 20/35\n",
            "16/16 [==============================] - 0s 5ms/step - loss: 0.1193 - accuracy: 0.9531 - val_loss: 0.0804 - val_accuracy: 0.9825\n",
            "Epoch 21/35\n",
            "16/16 [==============================] - 0s 5ms/step - loss: 0.1250 - accuracy: 0.9531 - val_loss: 0.0753 - val_accuracy: 0.9825\n",
            "Epoch 22/35\n",
            "16/16 [==============================] - 0s 5ms/step - loss: 0.1009 - accuracy: 0.9668 - val_loss: 0.0700 - val_accuracy: 0.9825\n",
            "Epoch 23/35\n",
            "16/16 [==============================] - 0s 6ms/step - loss: 0.1197 - accuracy: 0.9570 - val_loss: 0.0649 - val_accuracy: 0.9825\n",
            "Epoch 24/35\n",
            "16/16 [==============================] - 0s 5ms/step - loss: 0.1174 - accuracy: 0.9531 - val_loss: 0.0611 - val_accuracy: 0.9825\n",
            "Epoch 25/35\n",
            "16/16 [==============================] - 0s 5ms/step - loss: 0.0927 - accuracy: 0.9668 - val_loss: 0.0578 - val_accuracy: 0.9825\n",
            "Epoch 26/35\n",
            "16/16 [==============================] - 0s 5ms/step - loss: 0.1074 - accuracy: 0.9668 - val_loss: 0.0550 - val_accuracy: 0.9825\n",
            "Epoch 27/35\n",
            "16/16 [==============================] - 0s 5ms/step - loss: 0.0988 - accuracy: 0.9648 - val_loss: 0.0526 - val_accuracy: 0.9825\n",
            "Epoch 28/35\n",
            "16/16 [==============================] - 0s 5ms/step - loss: 0.0930 - accuracy: 0.9746 - val_loss: 0.0505 - val_accuracy: 0.9825\n",
            "Epoch 29/35\n",
            "16/16 [==============================] - 0s 5ms/step - loss: 0.0975 - accuracy: 0.9570 - val_loss: 0.0489 - val_accuracy: 0.9825\n",
            "Epoch 30/35\n",
            "16/16 [==============================] - 0s 5ms/step - loss: 0.0814 - accuracy: 0.9727 - val_loss: 0.0470 - val_accuracy: 0.9825\n",
            "Epoch 31/35\n",
            "16/16 [==============================] - 0s 5ms/step - loss: 0.0824 - accuracy: 0.9707 - val_loss: 0.0452 - val_accuracy: 0.9825\n",
            "Epoch 32/35\n",
            "16/16 [==============================] - 0s 5ms/step - loss: 0.0952 - accuracy: 0.9648 - val_loss: 0.0436 - val_accuracy: 1.0000\n",
            "Epoch 33/35\n",
            "16/16 [==============================] - 0s 5ms/step - loss: 0.1024 - accuracy: 0.9668 - val_loss: 0.0428 - val_accuracy: 0.9825\n",
            "Epoch 34/35\n",
            "16/16 [==============================] - 0s 5ms/step - loss: 0.1010 - accuracy: 0.9707 - val_loss: 0.0417 - val_accuracy: 1.0000\n",
            "Epoch 35/35\n",
            "16/16 [==============================] - 0s 5ms/step - loss: 0.0733 - accuracy: 0.9766 - val_loss: 0.0408 - val_accuracy: 0.9825\n"
          ],
          "name": "stdout"
        }
      ]
    },
    {
      "cell_type": "code",
      "metadata": {
        "id": "xgoLOSXRSu3C"
      },
      "source": [
        "def plotLearningCurve(history,epochs):\n",
        "  epochRange = range(1,epochs+1)\n",
        "  plt.plot(epochRange,history.history['accuracy'])\n",
        "  plt.plot(epochRange,history.history['val_accuracy'])\n",
        "  plt.title('Model Accuracy')\n",
        "  plt.xlabel('Epoch')\n",
        "  plt.ylabel('Accuracy')\n",
        "  plt.legend(['Train','Validation'],loc='upper left')\n",
        "  plt.show()\n",
        "\n",
        "  plt.plot(epochRange,history.history['loss'])\n",
        "  plt.plot(epochRange,history.history['val_loss'])\n",
        "  plt.title('Model Loss')\n",
        "  plt.xlabel('Epoch')\n",
        "  plt.ylabel('Loss')\n",
        "  plt.legend(['Train','Validation'],loc='upper left')\n",
        "  plt.show()"
      ],
      "execution_count": 43,
      "outputs": []
    },
    {
      "cell_type": "code",
      "metadata": {
        "colab": {
          "base_uri": "https://localhost:8080/",
          "height": 573
        },
        "id": "E6BEAMIfSu7b",
        "outputId": "8ff13836-cc1e-4979-91be-d221da4b9f20"
      },
      "source": [
        "plotLearningCurve(history,35)"
      ],
      "execution_count": 44,
      "outputs": [
        {
          "output_type": "display_data",
          "data": {
            "image/png": "[encoded data removed]",
            "text/plain": [
              "<Figure size 432x288 with 1 Axes>"
            ]
          },
          "metadata": {
            "tags": [],
            "needs_background": "light"
          }
        },
        {
          "output_type": "display_data",
          "data": {
            "image/png": "[encoded data removed]",
            "text/plain": [
              "<Figure size 432x288 with 1 Axes>"
            ]
          },
          "metadata": {
            "tags": [],
            "needs_background": "light"
          }
        }
      ]
    },
    {
      "cell_type": "code",
      "metadata": {
        "id": "MNucLBVeTh4A"
      },
      "source": [
        ""
      ],
      "execution_count": 44,
      "outputs": []
    }
  ]
}